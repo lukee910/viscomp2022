{
 "cells": [
  {
   "cell_type": "markdown",
   "metadata": {},
   "source": [
    "## Setup\n",
    "You need to run this only once to link our configuration to your local repository! No need to run it every time"
   ]
  },
  {
   "cell_type": "code",
   "execution_count": 1,
   "metadata": {},
   "outputs": [],
   "source": [
    "!git config --local include.path ../.gitconfig"
   ]
  },
  {
   "cell_type": "markdown",
   "metadata": {},
   "source": [
    "## Syncing\n",
    "Run this every time you want to sync with the latest exercise. \n",
    "With the current configuration, it should not touch the locally changed files, only add the new ones and update never-changed files."
   ]
  },
  {
   "cell_type": "code",
   "execution_count": 2,
   "metadata": {},
   "outputs": [
    {
     "name": "stdout",
     "output_type": "stream",
     "text": [
      "[main ec7895f] Sync\n",
      " 1 file changed, 9 insertions(+), 15 deletions(-)\n",
      "Already up to date.\n"
     ]
    }
   ],
   "source": [
    "!git commit -a -m 'Sync'\n",
    "!git pull --no-edit"
   ]
  },
  {
   "cell_type": "markdown",
   "metadata": {},
   "source": [
    "## Contact\n",
    "\n",
    "For any problem with syncing either ask the TA in class or email lcavalli@ethz.ch"
   ]
  }
 ],
 "metadata": {
  "kernelspec": {
   "display_name": "Python 3.9.7 ('base')",
   "language": "python",
   "name": "python3"
  },
  "language_info": {
   "codemirror_mode": {
    "name": "ipython",
    "version": 3
   },
   "file_extension": ".py",
   "mimetype": "text/x-python",
   "name": "python",
   "nbconvert_exporter": "python",
   "pygments_lexer": "ipython3",
   "version": "3.9.7"
  },
  "vscode": {
   "interpreter": {
    "hash": "25229112d1cbfaa9186c40d36268ea58ae41ec968178e7c433d38dcab655979d"
   }
  }
 },
 "nbformat": 4,
 "nbformat_minor": 4
}
